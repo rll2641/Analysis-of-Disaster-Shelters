{
 "cells": [
  {
   "cell_type": "markdown",
   "metadata": {},
   "source": [
    "### <span style=\"color:#F05650\">병원과 대피소 간 거리 데이터 전처리(정적)</span>"
   ]
  },
  {
   "cell_type": "code",
   "execution_count": 6,
   "metadata": {},
   "outputs": [],
   "source": [
    "import pandas as pd"
   ]
  },
  {
   "cell_type": "code",
   "execution_count": 7,
   "metadata": {},
   "outputs": [],
   "source": [
    "data = pd.read_excel('../../Data/Hospital/1.병원정보서비스.xlsx', engine='openpyxl').drop(columns=['암호화요양기호'])"
   ]
  },
  {
   "cell_type": "code",
   "execution_count": 8,
   "metadata": {},
   "outputs": [
    {
     "data": {
      "text/plain": [
       "array(['상급종합', '종합병원', '병원', '요양병원', '정신병원', '의원', '치과병원', '치과의원', '조산원',\n",
       "       '보건소', '보건지소', '보건진료소', '보건의료원', '한방병원', '한의원'], dtype=object)"
      ]
     },
     "execution_count": 8,
     "metadata": {},
     "output_type": "execute_result"
    }
   ],
   "source": [
    "data['종별코드명'].unique()"
   ]
  },
  {
   "cell_type": "code",
   "execution_count": 9,
   "metadata": {},
   "outputs": [
    {
     "data": {
      "text/plain": [
       "array([ 1, 11, 21, 28, 29, 31, 41, 51, 61, 71, 72, 73, 75, 92, 93],\n",
       "      dtype=int64)"
      ]
     },
     "execution_count": 9,
     "metadata": {},
     "output_type": "execute_result"
    }
   ],
   "source": [
    "data['종별코드'].unique()"
   ]
  },
  {
   "cell_type": "markdown",
   "metadata": {},
   "source": [
    "사람이 많고, 입원이 가능한 병원을 대상으로 묶기\n",
    "\n",
    "종류: 상급종합, 종합병원, 요양병원, 정신병원, 조산원, 보건소"
   ]
  },
  {
   "cell_type": "code",
   "execution_count": 10,
   "metadata": {},
   "outputs": [
    {
     "name": "stderr",
     "output_type": "stream",
     "text": [
      "C:\\Users\\조지훈\\AppData\\Local\\Temp\\ipykernel_35724\\2829268088.py:1: FutureWarning: A value is trying to be set on a copy of a DataFrame or Series through chained assignment using an inplace method.\n",
      "The behavior will change in pandas 3.0. This inplace method will never work because the intermediate object on which we are setting values always behaves as a copy.\n",
      "\n",
      "For example, when doing 'df[col].method(value, inplace=True)', try using 'df.method({col: value}, inplace=True)' or df[col] = df[col].method(value) instead, to perform the operation inplace on the original object.\n",
      "\n",
      "\n",
      "  data['종별코드'].replace([11, 28, 29, 61, 71], 1, inplace=True)\n"
     ]
    }
   ],
   "source": [
    "data['종별코드'].replace([11, 28, 29, 61, 71], 1, inplace=True)"
   ]
  },
  {
   "cell_type": "code",
   "execution_count": 11,
   "metadata": {},
   "outputs": [],
   "source": [
    "hospital_data = data[(data['종별코드'] == 1) & (data['시도코드명'].str.contains('부산'))]"
   ]
  },
  {
   "cell_type": "code",
   "execution_count": 12,
   "metadata": {},
   "outputs": [
    {
     "name": "stderr",
     "output_type": "stream",
     "text": [
      "C:\\Users\\조지훈\\AppData\\Local\\Temp\\ipykernel_35724\\1359096804.py:1: SettingWithCopyWarning: \n",
      "A value is trying to be set on a copy of a slice from a DataFrame\n",
      "\n",
      "See the caveats in the documentation: https://pandas.pydata.org/pandas-docs/stable/user_guide/indexing.html#returning-a-view-versus-a-copy\n",
      "  hospital_data.drop(columns=hospital_data.columns[:9], inplace=True)\n",
      "C:\\Users\\조지훈\\AppData\\Local\\Temp\\ipykernel_35724\\1359096804.py:2: SettingWithCopyWarning: \n",
      "A value is trying to be set on a copy of a slice from a DataFrame\n",
      "\n",
      "See the caveats in the documentation: https://pandas.pydata.org/pandas-docs/stable/user_guide/indexing.html#returning-a-view-versus-a-copy\n",
      "  hospital_data.drop(columns=hospital_data.columns[1:-2], inplace=True)\n"
     ]
    }
   ],
   "source": [
    "hospital_data.drop(columns=hospital_data.columns[:9], inplace=True)\n",
    "hospital_data.drop(columns=hospital_data.columns[1:-2], inplace=True)"
   ]
  },
  {
   "cell_type": "code",
   "execution_count": 13,
   "metadata": {},
   "outputs": [
    {
     "name": "stderr",
     "output_type": "stream",
     "text": [
      "C:\\Users\\조지훈\\AppData\\Local\\Temp\\ipykernel_35724\\1319945310.py:1: SettingWithCopyWarning: \n",
      "A value is trying to be set on a copy of a slice from a DataFrame\n",
      "\n",
      "See the caveats in the documentation: https://pandas.pydata.org/pandas-docs/stable/user_guide/indexing.html#returning-a-view-versus-a-copy\n",
      "  hospital_data.rename(columns={'좌표(X)':'경도', '좌표(Y)':'위도'}, inplace=True)\n"
     ]
    }
   ],
   "source": [
    "hospital_data.rename(columns={'좌표(X)':'경도', '좌표(Y)':'위도'}, inplace=True)"
   ]
  },
  {
   "cell_type": "code",
   "execution_count": 14,
   "metadata": {},
   "outputs": [],
   "source": [
    "hospital_data.reset_index(drop=True, inplace=True)"
   ]
  },
  {
   "cell_type": "code",
   "execution_count": 16,
   "metadata": {},
   "outputs": [],
   "source": [
    "hospital_data"
   ]
  }
 ],
 "metadata": {
  "kernelspec": {
   "display_name": "Capstone_ysu",
   "language": "python",
   "name": "python3"
  },
  "language_info": {
   "codemirror_mode": {
    "name": "ipython",
    "version": 3
   },
   "file_extension": ".py",
   "mimetype": "text/x-python",
   "name": "python",
   "nbconvert_exporter": "python",
   "pygments_lexer": "ipython3",
   "version": "3.11.5"
  }
 },
 "nbformat": 4,
 "nbformat_minor": 2
}
